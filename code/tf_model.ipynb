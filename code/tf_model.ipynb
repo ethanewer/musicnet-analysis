{
 "cells": [
  {
   "cell_type": "markdown",
   "metadata": {},
   "source": [
    "### Date Preproscessing"
   ]
  },
  {
   "cell_type": "code",
   "execution_count": 2,
   "metadata": {},
   "outputs": [],
   "source": [
    "import numpy as np\n",
    "import pandas as pd\n",
    "import matplotlib.pyplot as plt\n",
    "from glob import glob\n",
    "import librosa\n",
    "import librosa.display\n",
    "import IPython.display as ipd"
   ]
  },
  {
   "cell_type": "code",
   "execution_count": 3,
   "metadata": {},
   "outputs": [],
   "source": [
    "metadata = pd.read_csv('musicnet_metadata.csv')\n",
    "train_data_files = glob('musicnet/musicnet/train_data/*.wav')\n",
    "test_data_files = glob('musicnet/musicnet/test_data/*.wav')"
   ]
  },
  {
   "cell_type": "code",
   "execution_count": 4,
   "metadata": {},
   "outputs": [],
   "source": [
    "def wav_to_mel_spec(path):\n",
    "  y, sr = librosa.load(path)\n",
    "  spec = librosa.feature.melspectrogram(y=y, sr=sr, n_mels=512)\n",
    "  return np.abs(librosa.amplitude_to_db(spec, ref=np.max))"
   ]
  },
  {
   "cell_type": "code",
   "execution_count": 5,
   "metadata": {},
   "outputs": [],
   "source": [
    "train_data = [wav_to_mel_spec(path) for path in train_data_files]\n",
    "test_data = [wav_to_mel_spec(path) for path in test_data_files]"
   ]
  },
  {
   "cell_type": "code",
   "execution_count": 6,
   "metadata": {},
   "outputs": [],
   "source": [
    "train_data_ids = [int(path[-8:-4]) for path in train_data_files]\n",
    "test_data_ids = [int(path[-8:-4]) for path in test_data_files]\n",
    "\n",
    "train_labels = [metadata[metadata['id'] == i]['ensemble'].values[0] for i in train_data_ids]\n",
    "test_labels = [metadata[metadata['id'] == i]['ensemble'].values[0] for i in test_data_ids]"
   ]
  },
  {
   "cell_type": "code",
   "execution_count": 7,
   "metadata": {},
   "outputs": [],
   "source": [
    "labels_to_nums = {label: i for i, label in enumerate(set(train_labels))}\n",
    "nums_to_labels = {i: label for label, i in labels_to_nums.items()}"
   ]
  },
  {
   "cell_type": "markdown",
   "metadata": {},
   "source": [
    "### Model"
   ]
  },
  {
   "cell_type": "code",
   "execution_count": 8,
   "metadata": {},
   "outputs": [],
   "source": [
    "import tensorflow as tf"
   ]
  },
  {
   "cell_type": "code",
   "execution_count": 12,
   "metadata": {},
   "outputs": [],
   "source": [
    "x_train = np.array([x[:, :1024].reshape(512, 1024, 1) for x in train_data], np.float32)\n",
    "x_test = np.array([x[:, :1024].reshape(512, 1024, 1) for x in test_data], np.float32)\n",
    "y_train = np.array([labels_to_nums[label] for label in train_labels], np.float32)\n",
    "y_test = np.array([labels_to_nums[label] for label in test_labels], np.float32)"
   ]
  },
  {
   "cell_type": "code",
   "execution_count": 13,
   "metadata": {},
   "outputs": [],
   "source": [
    "model = tf.keras.models.Sequential([\n",
    "  tf.keras.layers.Conv2D(32, (3, 3), activation='relu', input_shape=(512, 1024, 1)),\n",
    "  tf.keras.layers.MaxPooling2D(2, 2),\n",
    "  tf.keras.layers.Conv2D(16, (3, 3), activation='relu'),\n",
    "  tf.keras.layers.MaxPooling2D(2, 2),\n",
    "  tf.keras.layers.Conv2D(8, (3, 3), activation='relu'),\n",
    "  tf.keras.layers.MaxPooling2D(2, 2),\n",
    "  tf.keras.layers.Flatten(),\n",
    "  tf.keras.layers.Dense(128, activation='relu'),\n",
    "  tf.keras.layers.Dense(21, activation='relu'),\n",
    "])\n",
    "\n",
    "optimizer = tf.keras.optimizers.legacy.Adam(learning_rate=0.001)\n",
    "loss_fn = tf.keras.losses.SparseCategoricalCrossentropy(from_logits=True)\n",
    "model.compile(optimizer=optimizer, loss=loss_fn, metrics=['acc'])"
   ]
  },
  {
   "cell_type": "code",
   "execution_count": 14,
   "metadata": {},
   "outputs": [
    {
     "name": "stdout",
     "output_type": "stream",
     "text": [
      "Epoch 1/10\n",
      "10/10 [==============================] - 18s 2s/step - loss: 21.2085 - acc: 0.2406\n",
      "Epoch 2/10\n",
      "10/10 [==============================] - 17s 2s/step - loss: 2.9022 - acc: 0.4781\n",
      "Epoch 3/10\n",
      "10/10 [==============================] - 17s 2s/step - loss: 2.5816 - acc: 0.4781\n",
      "Epoch 4/10\n",
      "10/10 [==============================] - 17s 2s/step - loss: 2.4141 - acc: 0.4781\n",
      "Epoch 5/10\n",
      "10/10 [==============================] - 17s 2s/step - loss: 2.1040 - acc: 0.5125\n",
      "Epoch 6/10\n",
      "10/10 [==============================] - 18s 2s/step - loss: 1.8378 - acc: 0.6156\n",
      "Epoch 7/10\n",
      "10/10 [==============================] - 17s 2s/step - loss: 1.5002 - acc: 0.6594\n",
      "Epoch 8/10\n",
      "10/10 [==============================] - 17s 2s/step - loss: 1.2446 - acc: 0.6750\n",
      "Epoch 9/10\n",
      "10/10 [==============================] - 17s 2s/step - loss: 1.0797 - acc: 0.7156\n",
      "Epoch 10/10\n",
      "10/10 [==============================] - 17s 2s/step - loss: 1.0074 - acc: 0.7156\n"
     ]
    },
    {
     "data": {
      "text/plain": [
       "<keras.src.callbacks.History at 0x65a3a9d10>"
      ]
     },
     "execution_count": 14,
     "metadata": {},
     "output_type": "execute_result"
    }
   ],
   "source": [
    "model.fit(x_train, y_train, epochs=20)"
   ]
  },
  {
   "cell_type": "code",
   "execution_count": 15,
   "metadata": {},
   "outputs": [
    {
     "name": "stdout",
     "output_type": "stream",
     "text": [
      "1/1 [==============================] - 0s 192ms/step - loss: 1.9854 - acc: 0.4000\n"
     ]
    },
    {
     "data": {
      "text/plain": [
       "[1.9854122400283813, 0.4000000059604645]"
      ]
     },
     "execution_count": 15,
     "metadata": {},
     "output_type": "execute_result"
    }
   ],
   "source": [
    "model.evaluate(x_test, y_test)"
   ]
  },
  {
   "cell_type": "code",
   "execution_count": null,
   "metadata": {},
   "outputs": [],
   "source": []
  }
 ],
 "metadata": {
  "kernelspec": {
   "display_name": "metal",
   "language": "python",
   "name": "python3"
  },
  "language_info": {
   "codemirror_mode": {
    "name": "ipython",
    "version": 3
   },
   "file_extension": ".py",
   "mimetype": "text/x-python",
   "name": "python",
   "nbconvert_exporter": "python",
   "pygments_lexer": "ipython3",
   "version": "3.11.7"
  }
 },
 "nbformat": 4,
 "nbformat_minor": 2
}
